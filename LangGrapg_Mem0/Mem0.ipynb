{
  "nbformat": 4,
  "nbformat_minor": 0,
  "metadata": {
    "colab": {
      "provenance": []
    },
    "kernelspec": {
      "name": "python3",
      "display_name": "Python 3"
    },
    "language_info": {
      "name": "python"
    }
  },
  "cells": [
    {
      "cell_type": "code",
      "execution_count": 37,
      "metadata": {
        "id": "HVUehsV0b-Oi"
      },
      "outputs": [],
      "source": [
        "import os\n",
        "from google.colab import userdata\n",
        "\n",
        "os.environ[\"GOOGLE_API_KEY\"] = userdata.get(\"GOOGLE_API_KEY\")"
      ]
    },
    {
      "cell_type": "code",
      "source": [
        "!pip -q install mem0ai"
      ],
      "metadata": {
        "id": "O4E3bFoXche5"
      },
      "execution_count": 38,
      "outputs": []
    },
    {
      "cell_type": "code",
      "source": [
        "from google import genai\n",
        "from mem0 import Memory\n",
        "\n",
        "# create client\n",
        "client = genai.Client()\n",
        "\n",
        "config = {\n",
        "    \"embedder\": {\n",
        "        \"provider\": \"gemini\",\n",
        "        \"config\": {\n",
        "            \"model\": \"models/text-embedding-004\",\n",
        "        }\n",
        "    },\n",
        "        \"llm\": {\n",
        "        \"provider\": \"gemini\",\n",
        "        \"config\": {\n",
        "            \"model\": \"gemini-2.5-flash\",\n",
        "            \"temperature\": 0.0,\n",
        "            \"max_tokens\": 2000,\n",
        "        }\n",
        "    },\n",
        "    \"vector_store\": {\n",
        "        \"config\": {\n",
        "            \"embedding_model_dims\": 768,\n",
        "        }\n",
        "    }\n",
        "}\n",
        "\n",
        "memory = Memory.from_config(config)"
      ],
      "metadata": {
        "id": "7WGeSJ_ychba"
      },
      "execution_count": 39,
      "outputs": []
    },
    {
      "cell_type": "code",
      "source": [
        "memory.add([\n",
        "    {\"role\": \"user\", \"content\": \"Hi, I'm Prajwal Aswar. GenAI Engineer at DataSmith AI.\"}\n",
        "], user_id=\"prajwal\")\n",
        "\n",
        "memory.add([\n",
        "    {\"role\": \"user\", \"content\": \"I love building RAG and AI Agent solutions that actually work in production.\"}\n",
        "], user_id=\"prajwal\", metadata={\"category\": \"preferences\"})\n"
      ],
      "metadata": {
        "colab": {
          "base_uri": "https://localhost:8080/"
        },
        "id": "_bOEdoXSchZI",
        "outputId": "44f62115-ec2b-4c17-c678-b0e4f22d24de"
      },
      "execution_count": 40,
      "outputs": [
        {
          "output_type": "execute_result",
          "data": {
            "text/plain": [
              "{'results': [{'id': '112758d5-d048-4c97-9237-97024f7c0acd',\n",
              "   'memory': 'Loves building RAG and AI Agent solutions that actually work in production',\n",
              "   'event': 'ADD'}]}"
            ]
          },
          "metadata": {},
          "execution_count": 40
        }
      ]
    },
    {
      "cell_type": "code",
      "source": [
        "related = memory.search(\"who am i\", user_id=\"prajwal\")\n",
        "related\n"
      ],
      "metadata": {
        "colab": {
          "base_uri": "https://localhost:8080/"
        },
        "id": "bQUr3m_dchWR",
        "outputId": "c0efa7ff-3f93-45ef-944f-73fbdb596b6c"
      },
      "execution_count": 41,
      "outputs": [
        {
          "output_type": "execute_result",
          "data": {
            "text/plain": [
              "{'results': [{'id': '62cc7ed7-7155-4efa-8e3c-7da310c8c1f6',\n",
              "   'memory': 'Name is Prajwal Aswar',\n",
              "   'hash': '9b934309a9bb49d903de08c6d1fa9f80',\n",
              "   'metadata': None,\n",
              "   'score': 0.385532710288224,\n",
              "   'created_at': '2025-10-07T02:03:06.306970-07:00',\n",
              "   'updated_at': None,\n",
              "   'user_id': 'prajwal'},\n",
              "  {'id': 'fe5f417b-7fd8-4497-9d40-bce6f4411f79',\n",
              "   'memory': 'Is a GenAI Engineer at DataSmith AI',\n",
              "   'hash': 'a268e141b1b8a807f658722efe3bdd29',\n",
              "   'metadata': None,\n",
              "   'score': 0.3708313246547329,\n",
              "   'created_at': '2025-10-07T02:03:06.342443-07:00',\n",
              "   'updated_at': None,\n",
              "   'user_id': 'prajwal'},\n",
              "  {'id': '112758d5-d048-4c97-9237-97024f7c0acd',\n",
              "   'memory': 'Loves building RAG and AI Agent solutions that actually work in production',\n",
              "   'hash': 'bd9accc51908a763153e6d9d9991c55e',\n",
              "   'metadata': {'category': 'preferences'},\n",
              "   'score': 0.36581861159901086,\n",
              "   'created_at': '2025-10-07T02:03:12.713504-07:00',\n",
              "   'updated_at': None,\n",
              "   'user_id': 'prajwal'}]}"
            ]
          },
          "metadata": {},
          "execution_count": 41
        }
      ]
    },
    {
      "cell_type": "code",
      "source": [
        "all_memories = memory.get_all(user_id=\"prajwal\")\n"
      ],
      "metadata": {
        "id": "OWL9wpZDchTp"
      },
      "execution_count": 42,
      "outputs": []
    },
    {
      "cell_type": "code",
      "source": [
        "mem_id = \"62cc7ed7-7155-4efa-8e3c-7da310c8c1f6\"\n",
        "wow=memory.get(mem_id)\n",
        "wow\n"
      ],
      "metadata": {
        "colab": {
          "base_uri": "https://localhost:8080/"
        },
        "id": "NaV_LQe7chQ-",
        "outputId": "a97b5d68-6cdb-453e-cfff-515b06145da2"
      },
      "execution_count": 44,
      "outputs": [
        {
          "output_type": "execute_result",
          "data": {
            "text/plain": [
              "{'id': '62cc7ed7-7155-4efa-8e3c-7da310c8c1f6',\n",
              " 'memory': 'Name is Prajwal Aswar',\n",
              " 'hash': '9b934309a9bb49d903de08c6d1fa9f80',\n",
              " 'metadata': None,\n",
              " 'score': None,\n",
              " 'created_at': '2025-10-07T02:03:06.306970-07:00',\n",
              " 'updated_at': None,\n",
              " 'user_id': 'prajwal'}"
            ]
          },
          "metadata": {},
          "execution_count": 44
        }
      ]
    },
    {
      "cell_type": "code",
      "source": [
        "memory.update(memory_id=mem_id, data=\"Builds custom Gen AI solutions\")\n",
        "# → {'message': 'Memory updated successfully!'}\n"
      ],
      "metadata": {
        "colab": {
          "base_uri": "https://localhost:8080/"
        },
        "id": "IUmAmmg1eTtD",
        "outputId": "e3733cec-0846-4bef-dc3e-7faf05c2bac5"
      },
      "execution_count": 45,
      "outputs": [
        {
          "output_type": "execute_result",
          "data": {
            "text/plain": [
              "{'message': 'Memory updated successfully!'}"
            ]
          },
          "metadata": {},
          "execution_count": 45
        }
      ]
    },
    {
      "cell_type": "code",
      "source": [
        "history = memory.history(memory_id=mem_id)\n",
        "history\n"
      ],
      "metadata": {
        "colab": {
          "base_uri": "https://localhost:8080/"
        },
        "id": "7tJxspzAeTpp",
        "outputId": "ac55cd80-7540-4656-9f62-1b503ca8fc5e"
      },
      "execution_count": 46,
      "outputs": [
        {
          "output_type": "execute_result",
          "data": {
            "text/plain": [
              "[{'id': '2e2d0954-7859-4695-8ae1-6b6915f1a8fc',\n",
              "  'memory_id': '62cc7ed7-7155-4efa-8e3c-7da310c8c1f6',\n",
              "  'old_memory': None,\n",
              "  'new_memory': 'Name is Prajwal Aswar',\n",
              "  'event': 'ADD',\n",
              "  'created_at': '2025-10-07T02:03:06.306970-07:00',\n",
              "  'updated_at': None,\n",
              "  'is_deleted': False,\n",
              "  'actor_id': None,\n",
              "  'role': None},\n",
              " {'id': 'a181a181-c7ec-4737-996f-f35032273361',\n",
              "  'memory_id': '62cc7ed7-7155-4efa-8e3c-7da310c8c1f6',\n",
              "  'old_memory': 'Name is Prajwal Aswar',\n",
              "  'new_memory': 'Builds custom Gen AI solutions',\n",
              "  'event': 'UPDATE',\n",
              "  'created_at': '2025-10-07T02:03:06.306970-07:00',\n",
              "  'updated_at': '2025-10-07T02:03:43.278939-07:00',\n",
              "  'is_deleted': False,\n",
              "  'actor_id': None,\n",
              "  'role': None}]"
            ]
          },
          "metadata": {},
          "execution_count": 46
        }
      ]
    },
    {
      "cell_type": "code",
      "source": [
        "[{'event': 'ADD',    'old_memory': None,                     'new_memory': 'Builds custom AI solutions'},\n",
        " {'event': 'UPDATE', 'old_memory': 'Builds custom AI solutions',\n",
        "  'new_memory': 'Builds custom Gen AI solutions'}]\n"
      ],
      "metadata": {
        "colab": {
          "base_uri": "https://localhost:8080/"
        },
        "id": "3dmaBlpYeTnT",
        "outputId": "3220a0c3-1d37-4b71-f347-655bbab30348"
      },
      "execution_count": 47,
      "outputs": [
        {
          "output_type": "execute_result",
          "data": {
            "text/plain": [
              "[{'event': 'ADD',\n",
              "  'old_memory': None,\n",
              "  'new_memory': 'Builds custom AI solutions'},\n",
              " {'event': 'UPDATE',\n",
              "  'old_memory': 'Builds custom AI solutions',\n",
              "  'new_memory': 'Builds custom Gen AI solutions'}]"
            ]
          },
          "metadata": {},
          "execution_count": 47
        }
      ]
    },
    {
      "cell_type": "code",
      "source": [
        "!pip install langchain langgraph"
      ],
      "metadata": {
        "colab": {
          "base_uri": "https://localhost:8080/"
        },
        "id": "f1xB6WVIfguH",
        "outputId": "9b404a8b-c6a6-4e88-849d-19dec7d81e1e"
      },
      "execution_count": 48,
      "outputs": [
        {
          "output_type": "stream",
          "name": "stdout",
          "text": [
            "Requirement already satisfied: langchain in /usr/local/lib/python3.12/dist-packages (0.3.27)\n",
            "Requirement already satisfied: langgraph in /usr/local/lib/python3.12/dist-packages (0.6.8)\n",
            "Requirement already satisfied: langchain-core<1.0.0,>=0.3.72 in /usr/local/lib/python3.12/dist-packages (from langchain) (0.3.77)\n",
            "Requirement already satisfied: langchain-text-splitters<1.0.0,>=0.3.9 in /usr/local/lib/python3.12/dist-packages (from langchain) (0.3.11)\n",
            "Requirement already satisfied: langsmith>=0.1.17 in /usr/local/lib/python3.12/dist-packages (from langchain) (0.4.31)\n",
            "Requirement already satisfied: pydantic<3.0.0,>=2.7.4 in /usr/local/lib/python3.12/dist-packages (from langchain) (2.11.9)\n",
            "Requirement already satisfied: SQLAlchemy<3,>=1.4 in /usr/local/lib/python3.12/dist-packages (from langchain) (2.0.43)\n",
            "Requirement already satisfied: requests<3,>=2 in /usr/local/lib/python3.12/dist-packages (from langchain) (2.32.4)\n",
            "Requirement already satisfied: PyYAML>=5.3 in /usr/local/lib/python3.12/dist-packages (from langchain) (6.0.3)\n",
            "Requirement already satisfied: langgraph-checkpoint<3.0.0,>=2.1.0 in /usr/local/lib/python3.12/dist-packages (from langgraph) (2.1.1)\n",
            "Requirement already satisfied: langgraph-prebuilt<0.7.0,>=0.6.0 in /usr/local/lib/python3.12/dist-packages (from langgraph) (0.6.4)\n",
            "Requirement already satisfied: langgraph-sdk<0.3.0,>=0.2.2 in /usr/local/lib/python3.12/dist-packages (from langgraph) (0.2.9)\n",
            "Requirement already satisfied: xxhash>=3.5.0 in /usr/local/lib/python3.12/dist-packages (from langgraph) (3.5.0)\n",
            "Requirement already satisfied: tenacity!=8.4.0,<10.0.0,>=8.1.0 in /usr/local/lib/python3.12/dist-packages (from langchain-core<1.0.0,>=0.3.72->langchain) (8.5.0)\n",
            "Requirement already satisfied: jsonpatch<2.0.0,>=1.33.0 in /usr/local/lib/python3.12/dist-packages (from langchain-core<1.0.0,>=0.3.72->langchain) (1.33)\n",
            "Requirement already satisfied: typing-extensions<5.0.0,>=4.7.0 in /usr/local/lib/python3.12/dist-packages (from langchain-core<1.0.0,>=0.3.72->langchain) (4.15.0)\n",
            "Requirement already satisfied: packaging<26.0.0,>=23.2.0 in /usr/local/lib/python3.12/dist-packages (from langchain-core<1.0.0,>=0.3.72->langchain) (25.0)\n",
            "Requirement already satisfied: ormsgpack>=1.10.0 in /usr/local/lib/python3.12/dist-packages (from langgraph-checkpoint<3.0.0,>=2.1.0->langgraph) (1.10.0)\n",
            "Requirement already satisfied: httpx>=0.25.2 in /usr/local/lib/python3.12/dist-packages (from langgraph-sdk<0.3.0,>=0.2.2->langgraph) (0.28.1)\n",
            "Requirement already satisfied: orjson>=3.10.1 in /usr/local/lib/python3.12/dist-packages (from langgraph-sdk<0.3.0,>=0.2.2->langgraph) (3.11.3)\n",
            "Requirement already satisfied: requests-toolbelt>=1.0.0 in /usr/local/lib/python3.12/dist-packages (from langsmith>=0.1.17->langchain) (1.0.0)\n",
            "Requirement already satisfied: zstandard>=0.23.0 in /usr/local/lib/python3.12/dist-packages (from langsmith>=0.1.17->langchain) (0.25.0)\n",
            "Requirement already satisfied: annotated-types>=0.6.0 in /usr/local/lib/python3.12/dist-packages (from pydantic<3.0.0,>=2.7.4->langchain) (0.7.0)\n",
            "Requirement already satisfied: pydantic-core==2.33.2 in /usr/local/lib/python3.12/dist-packages (from pydantic<3.0.0,>=2.7.4->langchain) (2.33.2)\n",
            "Requirement already satisfied: typing-inspection>=0.4.0 in /usr/local/lib/python3.12/dist-packages (from pydantic<3.0.0,>=2.7.4->langchain) (0.4.2)\n",
            "Requirement already satisfied: charset_normalizer<4,>=2 in /usr/local/lib/python3.12/dist-packages (from requests<3,>=2->langchain) (3.4.3)\n",
            "Requirement already satisfied: idna<4,>=2.5 in /usr/local/lib/python3.12/dist-packages (from requests<3,>=2->langchain) (3.10)\n",
            "Requirement already satisfied: urllib3<3,>=1.21.1 in /usr/local/lib/python3.12/dist-packages (from requests<3,>=2->langchain) (2.5.0)\n",
            "Requirement already satisfied: certifi>=2017.4.17 in /usr/local/lib/python3.12/dist-packages (from requests<3,>=2->langchain) (2025.8.3)\n",
            "Requirement already satisfied: greenlet>=1 in /usr/local/lib/python3.12/dist-packages (from SQLAlchemy<3,>=1.4->langchain) (3.2.4)\n",
            "Requirement already satisfied: anyio in /usr/local/lib/python3.12/dist-packages (from httpx>=0.25.2->langgraph-sdk<0.3.0,>=0.2.2->langgraph) (4.11.0)\n",
            "Requirement already satisfied: httpcore==1.* in /usr/local/lib/python3.12/dist-packages (from httpx>=0.25.2->langgraph-sdk<0.3.0,>=0.2.2->langgraph) (1.0.9)\n",
            "Requirement already satisfied: h11>=0.16 in /usr/local/lib/python3.12/dist-packages (from httpcore==1.*->httpx>=0.25.2->langgraph-sdk<0.3.0,>=0.2.2->langgraph) (0.16.0)\n",
            "Requirement already satisfied: jsonpointer>=1.9 in /usr/local/lib/python3.12/dist-packages (from jsonpatch<2.0.0,>=1.33.0->langchain-core<1.0.0,>=0.3.72->langchain) (3.0.0)\n",
            "Requirement already satisfied: sniffio>=1.1 in /usr/local/lib/python3.12/dist-packages (from anyio->httpx>=0.25.2->langgraph-sdk<0.3.0,>=0.2.2->langgraph) (1.3.1)\n"
          ]
        }
      ]
    },
    {
      "cell_type": "code",
      "source": [
        "from typing import Annotated, TypedDict\n",
        "from langgraph.graph.message import add_messages\n",
        "from langchain_core.messages import BaseMessage\n",
        "\n",
        "class State(TypedDict):\n",
        "    \"\"\"Conversation state passed between nodes\"\"\"\n",
        "    messages: Annotated[list[BaseMessage], add_messages]  # chat history for this request\n",
        "    mem0_user_id: str                                     # maps to Mem0 user record\n"
      ],
      "metadata": {
        "id": "mZhawbySeTjq"
      },
      "execution_count": 49,
      "outputs": []
    },
    {
      "cell_type": "code",
      "metadata": {
        "colab": {
          "base_uri": "https://localhost:8080/"
        },
        "id": "0c8c36d8",
        "outputId": "0e200e9a-5249-4a8f-ad37-f5649c940869"
      },
      "source": [
        "# Install the necessary library\n",
        "!pip install -U langchain-google-genai"
      ],
      "execution_count": 50,
      "outputs": [
        {
          "output_type": "stream",
          "name": "stdout",
          "text": [
            "Requirement already satisfied: langchain-google-genai in /usr/local/lib/python3.12/dist-packages (2.1.12)\n",
            "Requirement already satisfied: langchain-core>=0.3.75 in /usr/local/lib/python3.12/dist-packages (from langchain-google-genai) (0.3.77)\n",
            "Requirement already satisfied: google-ai-generativelanguage<1,>=0.7 in /usr/local/lib/python3.12/dist-packages (from langchain-google-genai) (0.7.0)\n",
            "Requirement already satisfied: pydantic<3,>=2 in /usr/local/lib/python3.12/dist-packages (from langchain-google-genai) (2.11.9)\n",
            "Requirement already satisfied: filetype<2,>=1.2 in /usr/local/lib/python3.12/dist-packages (from langchain-google-genai) (1.2.0)\n",
            "Requirement already satisfied: google-api-core!=2.0.*,!=2.1.*,!=2.10.*,!=2.2.*,!=2.3.*,!=2.4.*,!=2.5.*,!=2.6.*,!=2.7.*,!=2.8.*,!=2.9.*,<3.0.0,>=1.34.1 in /usr/local/lib/python3.12/dist-packages (from google-api-core[grpc]!=2.0.*,!=2.1.*,!=2.10.*,!=2.2.*,!=2.3.*,!=2.4.*,!=2.5.*,!=2.6.*,!=2.7.*,!=2.8.*,!=2.9.*,<3.0.0,>=1.34.1->google-ai-generativelanguage<1,>=0.7->langchain-google-genai) (2.25.1)\n",
            "Requirement already satisfied: google-auth!=2.24.0,!=2.25.0,<3.0.0,>=2.14.1 in /usr/local/lib/python3.12/dist-packages (from google-ai-generativelanguage<1,>=0.7->langchain-google-genai) (2.38.0)\n",
            "Requirement already satisfied: proto-plus<2.0.0,>=1.22.3 in /usr/local/lib/python3.12/dist-packages (from google-ai-generativelanguage<1,>=0.7->langchain-google-genai) (1.26.1)\n",
            "Requirement already satisfied: protobuf!=4.21.0,!=4.21.1,!=4.21.2,!=4.21.3,!=4.21.4,!=4.21.5,<7.0.0,>=3.20.2 in /usr/local/lib/python3.12/dist-packages (from google-ai-generativelanguage<1,>=0.7->langchain-google-genai) (5.29.5)\n",
            "Requirement already satisfied: langsmith<1.0.0,>=0.3.45 in /usr/local/lib/python3.12/dist-packages (from langchain-core>=0.3.75->langchain-google-genai) (0.4.31)\n",
            "Requirement already satisfied: tenacity!=8.4.0,<10.0.0,>=8.1.0 in /usr/local/lib/python3.12/dist-packages (from langchain-core>=0.3.75->langchain-google-genai) (8.5.0)\n",
            "Requirement already satisfied: jsonpatch<2.0.0,>=1.33.0 in /usr/local/lib/python3.12/dist-packages (from langchain-core>=0.3.75->langchain-google-genai) (1.33)\n",
            "Requirement already satisfied: PyYAML<7.0.0,>=5.3.0 in /usr/local/lib/python3.12/dist-packages (from langchain-core>=0.3.75->langchain-google-genai) (6.0.3)\n",
            "Requirement already satisfied: typing-extensions<5.0.0,>=4.7.0 in /usr/local/lib/python3.12/dist-packages (from langchain-core>=0.3.75->langchain-google-genai) (4.15.0)\n",
            "Requirement already satisfied: packaging<26.0.0,>=23.2.0 in /usr/local/lib/python3.12/dist-packages (from langchain-core>=0.3.75->langchain-google-genai) (25.0)\n",
            "Requirement already satisfied: annotated-types>=0.6.0 in /usr/local/lib/python3.12/dist-packages (from pydantic<3,>=2->langchain-google-genai) (0.7.0)\n",
            "Requirement already satisfied: pydantic-core==2.33.2 in /usr/local/lib/python3.12/dist-packages (from pydantic<3,>=2->langchain-google-genai) (2.33.2)\n",
            "Requirement already satisfied: typing-inspection>=0.4.0 in /usr/local/lib/python3.12/dist-packages (from pydantic<3,>=2->langchain-google-genai) (0.4.2)\n",
            "Requirement already satisfied: googleapis-common-protos<2.0.0,>=1.56.2 in /usr/local/lib/python3.12/dist-packages (from google-api-core!=2.0.*,!=2.1.*,!=2.10.*,!=2.2.*,!=2.3.*,!=2.4.*,!=2.5.*,!=2.6.*,!=2.7.*,!=2.8.*,!=2.9.*,<3.0.0,>=1.34.1->google-api-core[grpc]!=2.0.*,!=2.1.*,!=2.10.*,!=2.2.*,!=2.3.*,!=2.4.*,!=2.5.*,!=2.6.*,!=2.7.*,!=2.8.*,!=2.9.*,<3.0.0,>=1.34.1->google-ai-generativelanguage<1,>=0.7->langchain-google-genai) (1.70.0)\n",
            "Requirement already satisfied: requests<3.0.0,>=2.18.0 in /usr/local/lib/python3.12/dist-packages (from google-api-core!=2.0.*,!=2.1.*,!=2.10.*,!=2.2.*,!=2.3.*,!=2.4.*,!=2.5.*,!=2.6.*,!=2.7.*,!=2.8.*,!=2.9.*,<3.0.0,>=1.34.1->google-api-core[grpc]!=2.0.*,!=2.1.*,!=2.10.*,!=2.2.*,!=2.3.*,!=2.4.*,!=2.5.*,!=2.6.*,!=2.7.*,!=2.8.*,!=2.9.*,<3.0.0,>=1.34.1->google-ai-generativelanguage<1,>=0.7->langchain-google-genai) (2.32.4)\n",
            "Requirement already satisfied: grpcio<2.0.0,>=1.33.2 in /usr/local/lib/python3.12/dist-packages (from google-api-core[grpc]!=2.0.*,!=2.1.*,!=2.10.*,!=2.2.*,!=2.3.*,!=2.4.*,!=2.5.*,!=2.6.*,!=2.7.*,!=2.8.*,!=2.9.*,<3.0.0,>=1.34.1->google-ai-generativelanguage<1,>=0.7->langchain-google-genai) (1.75.1)\n",
            "Requirement already satisfied: grpcio-status<2.0.0,>=1.33.2 in /usr/local/lib/python3.12/dist-packages (from google-api-core[grpc]!=2.0.*,!=2.1.*,!=2.10.*,!=2.2.*,!=2.3.*,!=2.4.*,!=2.5.*,!=2.6.*,!=2.7.*,!=2.8.*,!=2.9.*,<3.0.0,>=1.34.1->google-ai-generativelanguage<1,>=0.7->langchain-google-genai) (1.71.2)\n",
            "Requirement already satisfied: cachetools<6.0,>=2.0.0 in /usr/local/lib/python3.12/dist-packages (from google-auth!=2.24.0,!=2.25.0,<3.0.0,>=2.14.1->google-ai-generativelanguage<1,>=0.7->langchain-google-genai) (5.5.2)\n",
            "Requirement already satisfied: pyasn1-modules>=0.2.1 in /usr/local/lib/python3.12/dist-packages (from google-auth!=2.24.0,!=2.25.0,<3.0.0,>=2.14.1->google-ai-generativelanguage<1,>=0.7->langchain-google-genai) (0.4.2)\n",
            "Requirement already satisfied: rsa<5,>=3.1.4 in /usr/local/lib/python3.12/dist-packages (from google-auth!=2.24.0,!=2.25.0,<3.0.0,>=2.14.1->google-ai-generativelanguage<1,>=0.7->langchain-google-genai) (4.9.1)\n",
            "Requirement already satisfied: jsonpointer>=1.9 in /usr/local/lib/python3.12/dist-packages (from jsonpatch<2.0.0,>=1.33.0->langchain-core>=0.3.75->langchain-google-genai) (3.0.0)\n",
            "Requirement already satisfied: httpx<1,>=0.23.0 in /usr/local/lib/python3.12/dist-packages (from langsmith<1.0.0,>=0.3.45->langchain-core>=0.3.75->langchain-google-genai) (0.28.1)\n",
            "Requirement already satisfied: orjson>=3.9.14 in /usr/local/lib/python3.12/dist-packages (from langsmith<1.0.0,>=0.3.45->langchain-core>=0.3.75->langchain-google-genai) (3.11.3)\n",
            "Requirement already satisfied: requests-toolbelt>=1.0.0 in /usr/local/lib/python3.12/dist-packages (from langsmith<1.0.0,>=0.3.45->langchain-core>=0.3.75->langchain-google-genai) (1.0.0)\n",
            "Requirement already satisfied: zstandard>=0.23.0 in /usr/local/lib/python3.12/dist-packages (from langsmith<1.0.0,>=0.3.45->langchain-core>=0.3.75->langchain-google-genai) (0.25.0)\n",
            "Requirement already satisfied: anyio in /usr/local/lib/python3.12/dist-packages (from httpx<1,>=0.23.0->langsmith<1.0.0,>=0.3.45->langchain-core>=0.3.75->langchain-google-genai) (4.11.0)\n",
            "Requirement already satisfied: certifi in /usr/local/lib/python3.12/dist-packages (from httpx<1,>=0.23.0->langsmith<1.0.0,>=0.3.45->langchain-core>=0.3.75->langchain-google-genai) (2025.8.3)\n",
            "Requirement already satisfied: httpcore==1.* in /usr/local/lib/python3.12/dist-packages (from httpx<1,>=0.23.0->langsmith<1.0.0,>=0.3.45->langchain-core>=0.3.75->langchain-google-genai) (1.0.9)\n",
            "Requirement already satisfied: idna in /usr/local/lib/python3.12/dist-packages (from httpx<1,>=0.23.0->langsmith<1.0.0,>=0.3.45->langchain-core>=0.3.75->langchain-google-genai) (3.10)\n",
            "Requirement already satisfied: h11>=0.16 in /usr/local/lib/python3.12/dist-packages (from httpcore==1.*->httpx<1,>=0.23.0->langsmith<1.0.0,>=0.3.45->langchain-core>=0.3.75->langchain-google-genai) (0.16.0)\n",
            "Requirement already satisfied: pyasn1<0.7.0,>=0.6.1 in /usr/local/lib/python3.12/dist-packages (from pyasn1-modules>=0.2.1->google-auth!=2.24.0,!=2.25.0,<3.0.0,>=2.14.1->google-ai-generativelanguage<1,>=0.7->langchain-google-genai) (0.6.1)\n",
            "Requirement already satisfied: charset_normalizer<4,>=2 in /usr/local/lib/python3.12/dist-packages (from requests<3.0.0,>=2.18.0->google-api-core!=2.0.*,!=2.1.*,!=2.10.*,!=2.2.*,!=2.3.*,!=2.4.*,!=2.5.*,!=2.6.*,!=2.7.*,!=2.8.*,!=2.9.*,<3.0.0,>=1.34.1->google-api-core[grpc]!=2.0.*,!=2.1.*,!=2.10.*,!=2.2.*,!=2.3.*,!=2.4.*,!=2.5.*,!=2.6.*,!=2.7.*,!=2.8.*,!=2.9.*,<3.0.0,>=1.34.1->google-ai-generativelanguage<1,>=0.7->langchain-google-genai) (3.4.3)\n",
            "Requirement already satisfied: urllib3<3,>=1.21.1 in /usr/local/lib/python3.12/dist-packages (from requests<3.0.0,>=2.18.0->google-api-core!=2.0.*,!=2.1.*,!=2.10.*,!=2.2.*,!=2.3.*,!=2.4.*,!=2.5.*,!=2.6.*,!=2.7.*,!=2.8.*,!=2.9.*,<3.0.0,>=1.34.1->google-api-core[grpc]!=2.0.*,!=2.1.*,!=2.10.*,!=2.2.*,!=2.3.*,!=2.4.*,!=2.5.*,!=2.6.*,!=2.7.*,!=2.8.*,!=2.9.*,<3.0.0,>=1.34.1->google-ai-generativelanguage<1,>=0.7->langchain-google-genai) (2.5.0)\n",
            "Requirement already satisfied: sniffio>=1.1 in /usr/local/lib/python3.12/dist-packages (from anyio->httpx<1,>=0.23.0->langsmith<1.0.0,>=0.3.45->langchain-core>=0.3.75->langchain-google-genai) (1.3.1)\n"
          ]
        }
      ]
    },
    {
      "cell_type": "code",
      "metadata": {
        "colab": {
          "base_uri": "https://localhost:8080/"
        },
        "id": "27c404eb",
        "outputId": "90cb411c-507a-4327-b95f-1bf17be53129"
      },
      "source": [
        "from langchain_google_genai import ChatGoogleGenerativeAI\n",
        "\n",
        "# Initialize the Google Generative AI chat model\n",
        "llm = ChatGoogleGenerativeAI(model=\"gemini-2.5-flash\", temperature=0.7)"
      ],
      "execution_count": 51,
      "outputs": [
        {
          "output_type": "stream",
          "name": "stderr",
          "text": [
            "/usr/local/lib/python3.12/dist-packages/jupyter_client/session.py:203: DeprecationWarning: datetime.datetime.utcnow() is deprecated and scheduled for removal in a future version. Use timezone-aware objects to represent datetimes in UTC: datetime.datetime.now(datetime.UTC).\n",
            "  return datetime.utcnow().replace(tzinfo=utc)\n"
          ]
        }
      ]
    },
    {
      "cell_type": "code",
      "source": [
        "from langchain_core.messages import HumanMessage, AIMessage, SystemMessage\n",
        "\n",
        "def chatbot(state: State):\n",
        "    global memory  # re‑use the Mem0 instance from Section 1\n",
        "    msgs = state[\"messages\"]\n",
        "    uid = state[\"mem0_user_id\"]\n",
        "\n",
        "    # 1️⃣ Retrieve memories relevant to the latest user msg\n",
        "    mems = memory.search(msgs[-1].content, user_id=uid)\n",
        "    print(f\"Retrieved Memories: {mems}\")\n",
        "\n",
        "    # Build context string\n",
        "    if mems[\"results\"]:\n",
        "        context = \"\\n\".join(f\"- {m['memory']}\" for m in mems[\"results\"])\n",
        "    else:\n",
        "        context = \"No relevant information found.\"\n",
        "\n",
        "    system = SystemMessage(content=f\"\"\"You are a helpful assistant. Use the provided context to personalise your responses.\n",
        "Relevant information from previous conversations:\n",
        "{context}\"\"\")\n",
        "\n",
        "    # 2️⃣ Invoke the LLM\n",
        "    response = llm.invoke([system] + msgs)\n",
        "\n",
        "    # 3️⃣ Persist the new turn\n",
        "    memory.add([\n",
        "        {\"role\": \"user\", \"content\": msgs[-1].content},\n",
        "        {\"role\": \"assistant\", \"content\": response.content}\n",
        "    ], user_id=uid)\n",
        "\n",
        "    return {\"messages\": [response]}\n"
      ],
      "metadata": {
        "id": "fDRsV8fVfpDY"
      },
      "execution_count": 52,
      "outputs": []
    },
    {
      "cell_type": "code",
      "source": [
        "from langgraph.graph import StateGraph, START, END\n",
        "\n",
        "graph_builder = StateGraph(State)\n",
        "\n",
        "graph_builder.add_node(\"chatbot\", chatbot)\n",
        "\n",
        "graph_builder.add_edge(START, \"chatbot\")\n",
        "\n",
        "graph_builder.add_edge(\"chatbot\", END)\n",
        "\n",
        "graph = graph_builder.compile()\n",
        "print(\"Graph compiled successfully ✅\")\n"
      ],
      "metadata": {
        "colab": {
          "base_uri": "https://localhost:8080/"
        },
        "id": "N2ElXak8fo2V",
        "outputId": "a620fe73-b5ee-4df2-a544-7eeaf356341b"
      },
      "execution_count": 53,
      "outputs": [
        {
          "output_type": "stream",
          "name": "stdout",
          "text": [
            "Graph compiled successfully ✅\n"
          ]
        }
      ]
    },
    {
      "cell_type": "code",
      "source": [
        "from langchain_core.messages import HumanMessage\n",
        "from langgraph.graph import StateGraph, START, END\n",
        "\n",
        "\n",
        "def run_conversation(user_input: str, mem0_user_id: str):\n",
        "    state = {\"messages\": [HumanMessage(content=user_input)], \"mem0_user_id\": mem0_user_id}\n",
        "    result = graph.invoke(state)\n",
        "    print(\"🤖\", result[\"messages\"][-1].content)\n",
        "\n",
        "if __name__ == \"__main__\":\n",
        "    uid = \"customer_prajwal\"\n",
        "    while True:\n",
        "        inp = input(\"You: \")\n",
        "        if inp.lower() in {\"quit\", \"exit\", \"bye\"}:\n",
        "            break\n",
        "        run_conversation(inp, uid)"
      ],
      "metadata": {
        "colab": {
          "base_uri": "https://localhost:8080/"
        },
        "id": "Q92rCzgIeTg9",
        "outputId": "f5758612-0779-4983-a365-8b7977fd9ed5"
      },
      "execution_count": 55,
      "outputs": [
        {
          "output_type": "stream",
          "name": "stdout",
          "text": [
            "You: what is my name and my year\n",
            "Retrieved Memories: {'results': [{'id': '7295439b-39c5-4455-a73b-46be63389615', 'memory': 'Is in Last Year', 'hash': '8669dde67e7a1bdcef94df44c0053c5c', 'metadata': None, 'score': 0.5345763289667174, 'created_at': '2025-10-07T02:04:54.769712-07:00', 'updated_at': None, 'user_id': 'customer_prajwal'}, {'id': '5de5b0e3-8304-4862-a9db-13e758fec2d2', 'memory': 'Name is Prajwal', 'hash': '9cecc80191303d638c47633174904c1c', 'metadata': None, 'score': 0.44926736866968026, 'created_at': '2025-10-07T02:04:41.971796-07:00', 'updated_at': None, 'user_id': 'customer_prajwal'}]}\n"
          ]
        },
        {
          "output_type": "stream",
          "name": "stderr",
          "text": [
            "/usr/local/lib/python3.12/dist-packages/jupyter_client/session.py:203: DeprecationWarning: datetime.datetime.utcnow() is deprecated and scheduled for removal in a future version. Use timezone-aware objects to represent datetimes in UTC: datetime.datetime.now(datetime.UTC).\n",
            "  return datetime.utcnow().replace(tzinfo=utc)\n"
          ]
        },
        {
          "name": "stdout",
          "output_type": "stream",
          "text": [
            "🤖 Your name is Prajwal and you are in your last year.\n",
            "You: quit\n"
          ]
        }
      ]
    },
    {
      "cell_type": "code",
      "source": [
        "!pip -q install qdrant_client"
      ],
      "metadata": {
        "id": "VZNlYp7phzG1"
      },
      "execution_count": 56,
      "outputs": []
    },
    {
      "cell_type": "code",
      "source": [
        "collection_name = \"mem0_yt\"\n",
        "\n",
        "config = {\n",
        "    \"vector_store\": {\n",
        "        \"provider\": \"qdrant\",\n",
        "        \"config\": {\n",
        "            \"collection_name\": collection_name,\n",
        "            \"host\": \"b6c257bf-949d-44d9-8f3b-52cb0eb47727.us-west-2-0.aws.cloud.qdrant.io\",\n",
        "            \"port\": 6333,\n",
        "            \"api_key\": userdata.get(\"Qdrant_API_KEY\")\n",
        "        }\n",
        "    },\n",
        "    \"embedder\": {\n",
        "        \"provider\": \"gemini\",\n",
        "        \"config\": {\n",
        "            \"model\": \"models/text-embedding-004\",\n",
        "        }\n",
        "    },\n",
        "    \"llm\": { # Explicitly setting the LLM provider\n",
        "        \"provider\": \"gemini\",\n",
        "        \"config\": {\n",
        "            \"model\": \"gemini-2.5-flash\",\n",
        "            \"temperature\": 0.0,\n",
        "            \"max_tokens\": 2000,\n",
        "        }\n",
        "    }\n",
        "}\n",
        "\n",
        "memory = Memory.from_config(config)"
      ],
      "metadata": {
        "id": "X9CgP315hzA-"
      },
      "execution_count": 57,
      "outputs": []
    },
    {
      "cell_type": "code",
      "source": [
        "from qdrant_client import QdrantClient\n",
        "from google.colab import userdata\n",
        "\n",
        "qdrant = QdrantClient(\n",
        "    url=\"https://b6c257bf-949d-44d9-8f3b-52cb0eb47727.us-west-2-0.aws.cloud.qdrant.io:6333\",\n",
        "    api_key=userdata.get(\"Qdrant_API_KEY\") # It's recommended to store your API key securely\n",
        ")\n",
        "print(qdrant.get_collections())  # sanity‑check"
      ],
      "metadata": {
        "id": "BILdRX9fhy-W",
        "colab": {
          "base_uri": "https://localhost:8080/"
        },
        "outputId": "8ceee396-9d78-45a4-eec9-d1f6f531745e"
      },
      "execution_count": 58,
      "outputs": [
        {
          "output_type": "stream",
          "name": "stdout",
          "text": [
            "collections=[CollectionDescription(name='mem0_yt'), CollectionDescription(name='mem0migrations')]\n"
          ]
        }
      ]
    },
    {
      "cell_type": "code",
      "source": [
        "qdrant.create_payload_index(\n",
        "    collection_name=collection_name,\n",
        "    field_name=\"user_id\",\n",
        "    field_schema=\"keyword\"\n",
        ")\n"
      ],
      "metadata": {
        "id": "RNO1lK5Ghy7r",
        "colab": {
          "base_uri": "https://localhost:8080/"
        },
        "outputId": "12281a4b-1067-4f81-c5e5-5afb348e753e"
      },
      "execution_count": 59,
      "outputs": [
        {
          "output_type": "execute_result",
          "data": {
            "text/plain": [
              "UpdateResult(operation_id=14, status=<UpdateStatus.COMPLETED: 'completed'>)"
            ]
          },
          "metadata": {},
          "execution_count": 59
        }
      ]
    },
    {
      "cell_type": "code",
      "metadata": {
        "colab": {
          "base_uri": "https://localhost:8080/"
        },
        "id": "ec6067e5",
        "outputId": "6c6fec24-787d-4989-f2b0-7fcf66b4f966"
      },
      "source": [
        "from qdrant_client.http.models import Distance, VectorParams\n",
        "\n",
        "try:\n",
        "    qdrant.delete_collection(collection_name=collection_name)\n",
        "    print(f\"Collection '{collection_name}' deleted successfully.\")\n",
        "except Exception as e:\n",
        "    print(f\"Error deleting collection '{collection_name}': {e}\")\n",
        "\n",
        "qdrant.create_collection(\n",
        "    collection_name=collection_name,\n",
        "    vectors_config=VectorParams(size=768, distance=Distance.COSINE) # Set the correct dimension\n",
        ")\n",
        "print(f\"Collection '{collection_name}' created successfully with dimension 768.\")\n",
        "\n",
        "# Recreate the index on user_id\n",
        "qdrant.create_payload_index(\n",
        "    collection_name=collection_name,\n",
        "    field_name=\"user_id\",\n",
        "    field_schema=\"keyword\"\n",
        ")\n",
        "print(f\"Index on 'user_id' created successfully for collection '{collection_name}'.\")"
      ],
      "execution_count": 60,
      "outputs": [
        {
          "output_type": "stream",
          "name": "stdout",
          "text": [
            "Collection 'mem0_yt' deleted successfully.\n",
            "Collection 'mem0_yt' created successfully with dimension 768.\n",
            "Index on 'user_id' created successfully for collection 'mem0_yt'.\n"
          ]
        }
      ]
    },
    {
      "cell_type": "code",
      "metadata": {
        "colab": {
          "base_uri": "https://localhost:8080/"
        },
        "id": "f03003de",
        "outputId": "88257fbd-157e-44f7-e1c4-a3be067f8c14"
      },
      "source": [
        "messages = [\n",
        "    {\"role\": \"user\", \"content\": \"Hi, I'm Prajwal Aswar. GenAI Engineer.\"},\n",
        "    {\"role\": \"user\", \"content\": \"I love building RAG and AI Agent solutions that work in production.\"}\n",
        "]\n",
        "memory.add(messages, user_id=\"prajwal\")"
      ],
      "execution_count": 61,
      "outputs": [
        {
          "output_type": "execute_result",
          "data": {
            "text/plain": [
              "{'results': [{'id': '9790ff27-4413-41d8-a486-bac0d1adbb29',\n",
              "   'memory': 'Name is Prajwal Aswar',\n",
              "   'event': 'ADD'},\n",
              "  {'id': '267cf1af-7749-440d-a650-85510614c84e',\n",
              "   'memory': 'Is a GenAI Engineer',\n",
              "   'event': 'ADD'},\n",
              "  {'id': '5d4dcbb7-ff30-422e-a36d-6ca60ed739e7',\n",
              "   'memory': 'Loves building RAG and AI Agent solutions that work in production',\n",
              "   'event': 'ADD'}]}"
            ]
          },
          "metadata": {},
          "execution_count": 61
        }
      ]
    },
    {
      "cell_type": "code",
      "source": [
        "from mem0 import MemoryClient\n",
        "\n",
        "client = MemoryClient(api_key=userdata.get(\"Mem0_API_KEY\"))\n"
      ],
      "metadata": {
        "id": "QQ7iLuiF2Hj9"
      },
      "execution_count": 62,
      "outputs": []
    },
    {
      "cell_type": "code",
      "source": [
        "messages = [\n",
        "    {\"role\": \"user\",      \"content\": \"Hi, I am Prajwal. GenAI Engineer\"},\n",
        "    {\"role\": \"assistant\", \"content\": \"Hi Prajwal\"}\n",
        "]\n",
        "\n",
        "client.add(messages, user_id=\"Prajwal_bro\")\n"
      ],
      "metadata": {
        "colab": {
          "base_uri": "https://localhost:8080/"
        },
        "id": "-Nq1LmRv2Nw0",
        "outputId": "ad435f5d-c15a-4e97-9bcc-516d3a89feda"
      },
      "execution_count": 63,
      "outputs": [
        {
          "output_type": "stream",
          "name": "stderr",
          "text": [
            "/usr/local/lib/python3.12/dist-packages/mem0/client/utils.py:38: DeprecationWarning: output_format='v1.0' is deprecated therefore setting it to 'v1.1' by default. Check out the docs for more information: https://docs.mem0.ai/platform/quickstart#4-1-create-memories\n",
            "  return func(*args, **kwargs)\n"
          ]
        },
        {
          "output_type": "execute_result",
          "data": {
            "text/plain": [
              "{'results': [{'id': 'f998f37f-62ce-4c57-a611-b224a48a713b',\n",
              "   'event': 'ADD',\n",
              "   'memory': 'User Name is Prajwal',\n",
              "   'structured_attributes': {'day': 7,\n",
              "    'hour': 9,\n",
              "    'year': 2025,\n",
              "    'month': 10,\n",
              "    'minute': 5,\n",
              "    'quarter': 4,\n",
              "    'is_weekend': False,\n",
              "    'day_of_week': 'tuesday',\n",
              "    'day_of_year': 280,\n",
              "    'week_of_year': 41}},\n",
              "  {'id': '1ee148be-74cf-44c1-af06-39b14b67f4de',\n",
              "   'event': 'ADD',\n",
              "   'memory': 'Prajwal Is a GenAI Engineer',\n",
              "   'structured_attributes': {'day': 7,\n",
              "    'hour': 9,\n",
              "    'year': 2025,\n",
              "    'month': 10,\n",
              "    'minute': 5,\n",
              "    'quarter': 4,\n",
              "    'is_weekend': False,\n",
              "    'day_of_week': 'tuesday',\n",
              "    'day_of_year': 280,\n",
              "    'week_of_year': 41}}]}"
            ]
          },
          "metadata": {},
          "execution_count": 63
        }
      ]
    },
    {
      "cell_type": "code",
      "source": [],
      "metadata": {
        "id": "ux-qVxBH2NYa"
      },
      "execution_count": null,
      "outputs": []
    },
    {
      "cell_type": "code",
      "source": [],
      "metadata": {
        "id": "YwjOHDYI2NU5"
      },
      "execution_count": null,
      "outputs": []
    }
  ]
}